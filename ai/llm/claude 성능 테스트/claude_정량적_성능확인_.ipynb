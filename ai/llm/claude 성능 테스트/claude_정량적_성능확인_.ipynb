{
  "nbformat": 4,
  "nbformat_minor": 0,
  "metadata": {
    "colab": {
      "provenance": [],
      "collapsed_sections": [
        "GMQZV3qtBNEt",
        "sM_f9N7G6fTU",
        "ktrNhBAVmu2m"
      ]
    },
    "kernelspec": {
      "name": "python3",
      "display_name": "Python 3"
    },
    "language_info": {
      "name": "python"
    }
  },
  "cells": [
    {
      "cell_type": "markdown",
      "source": [
        "실제 음식점에서의 질의를와 claude가 생성한 답변의 유사도를 word2vec모델을 학습하여 각 답변의 벡터를 구하고, cosine유사도로 결과를 정량적으로 비교한다."
      ],
      "metadata": {
        "id": "dwOTYDrf03vj"
      }
    },
    {
      "cell_type": "markdown",
      "source": [
        "# 데이터 처리 및 claude 사용 준비\n",
        "ai hub의 소상공인 고객응대 데이터셋(https://aihub.or.kr/aihubdata/data/view.do?currMenu=115&topMenu=100&aihubDataSe=data&dataSetSn=102)의 validation_음식점.csv를 이용하여 음식점에서의 질의를 담은 데이터를 정리하고,\n",
        "\n",
        "claude sonnet의 사용을 준비한다."
      ],
      "metadata": {
        "id": "GMQZV3qtBNEt"
      }
    },
    {
      "cell_type": "markdown",
      "source": [
        "## 데이터 정리"
      ],
      "metadata": {
        "id": "sM_f9N7G6fTU"
      }
    },
    {
      "cell_type": "code",
      "execution_count": null,
      "metadata": {
        "id": "u2pIY-sXeVOP"
      },
      "outputs": [],
      "source": [
        "csvFile = \"/content/음식점.csv\""
      ]
    },
    {
      "cell_type": "code",
      "source": [
        "import csv\n",
        "\n",
        "fields = []\n",
        "rows = []\n",
        "# reading csv file\n",
        "with open(csvFile, 'r') as csvfile:\n",
        "    # creating a csv reader object\n",
        "    csvreader = csv.reader(csvfile)\n",
        "\n",
        "    # extracting field names through first row\n",
        "    fields = next(csvreader)\n",
        "\n",
        "    # extracting each data row one by one\n",
        "    for row in csvreader:\n",
        "        rows.append(row)\n",
        "\n",
        "    # get total number of rows\n",
        "    print(\"Total no. of rows: %d\" % (csvreader.line_num))\n",
        "\n",
        "# printing the field names\n",
        "print('Field names are:' + ', '.join(field for field in fields))\n",
        "\n",
        "# printing first 5 rows\n",
        "print('\\nFirst 5 rows are:\\n')\n",
        "for row in rows[:5]:\n",
        "    # parsing each column of a row\n",
        "    for col in row:\n",
        "        print(\"%10s\" % col, end=\" \"),\n",
        "    print('\\n')"
      ],
      "metadata": {
        "colab": {
          "base_uri": "https://localhost:8080/"
        },
        "id": "7AMZ52uTkU5K",
        "outputId": "1f84da42-203a-477f-a8a9-beacd4bce76a"
      },
      "execution_count": null,
      "outputs": [
        {
          "output_type": "stream",
          "name": "stdout",
          "text": [
            "Total no. of rows: 32826\n",
            "Field names are:﻿IDX, 발화자, 발화문, 카테고리, QA번호, QA여부, 감성, 인텐트, 가격, 수량, 크기, 장소, 조직, 사람, 시간, 날짜, 상품명, 상담번호, 상담내순번\n",
            "\n",
            "First 5 rows are:\n",
            "\n",
            "         1          c 방금 전에 주문한 사워크림고로케 2개 취소되었습니까?        음식점       2273          q          m   주문_취소_확인                    2개                                                                      사워크림고로케       2273          1 \n",
            "\n",
            "         2          s 네, 방금 전에 주문하신 사워크림고로케 2개는 취소된 상태입니다.        음식점       2273          a          m   주문_취소_확인                    2개                                                                      사워크림고로케       2273          2 \n",
            "\n",
            "         3          c 함박스테이크 두 개 다 취소된 거 맞아요?        음식점      28973          q          m   주문_취소_확인                   두 개                                                                       함박스테이크      28973          1 \n",
            "\n",
            "         4          s 네, 함박스테이크 두 개 다 취소해 드렸습니다.        음식점      28973          a          m   주문_취소_확인                   두 개                                                                       함박스테이크      28973          2 \n",
            "\n",
            "         5          c 주문서가 있어야만 취소가 되죠?        음식점      34274          q          m   주문_취소_확인                                                                                                         34274          1 \n",
            "\n"
          ]
        }
      ]
    },
    {
      "cell_type": "code",
      "source": [
        "rows[0][2]"
      ],
      "metadata": {
        "colab": {
          "base_uri": "https://localhost:8080/",
          "height": 35
        },
        "id": "JLrGTm0YmWwo",
        "outputId": "703f89f5-632e-49bd-d4f2-8d2cb18f537b"
      },
      "execution_count": null,
      "outputs": [
        {
          "output_type": "execute_result",
          "data": {
            "text/plain": [
              "'방금 전에 주문한 사워크림고로케 2개 취소되었습니까?'"
            ],
            "application/vnd.google.colaboratory.intrinsic+json": {
              "type": "string"
            }
          },
          "metadata": {},
          "execution_count": 3
        }
      ]
    },
    {
      "cell_type": "code",
      "source": [
        "raw_data = []\n",
        "label_data = []\n",
        "for row in rows:\n",
        "  if row[1] == 'c':\n",
        "    raw_data.append((row[17],row[2]))\n",
        "  elif row[1] == 's':\n",
        "    label_data.append((row[17],row[2]))\n",
        "\n",
        "print(raw_data[0])\n",
        "print(label_data[0])\n",
        "\n",
        "raw_data.sort(key = lambda x: x[0])\n",
        "label_data.sort(key = lambda x: x[0])\n",
        "\n",
        "print(raw_data[0])\n",
        "print(label_data[0])\n",
        "print(raw_data[1])\n",
        "print(label_data[1])\n",
        "print(raw_data[2])\n",
        "print(label_data[2])"
      ],
      "metadata": {
        "colab": {
          "base_uri": "https://localhost:8080/"
        },
        "id": "KOnXhOMg0efu",
        "outputId": "3e68f3c8-735d-4128-b532-8c1520a7151e"
      },
      "execution_count": null,
      "outputs": [
        {
          "output_type": "stream",
          "name": "stdout",
          "text": [
            "('2273', '방금 전에 주문한 사워크림고로케 2개 취소되었습니까?')\n",
            "('2273', '네, 방금 전에 주문하신 사워크림고로케 2개는 취소된 상태입니다.')\n",
            "('1', '카드번호 부를까요?')\n",
            "('1', '주문번호 알고계신가요?')\n",
            "('10', '후추 좀 많이 넣어주세요.')\n",
            "('10', '네, 알겠습니다.')\n",
            "('100', '위스키 발렌타인 지금 있나요?')\n",
            "('100', '네, 위스키 발렌타인 있습니다.')\n"
          ]
        }
      ]
    },
    {
      "cell_type": "code",
      "source": [
        "data = {'raw':[],'label':[]}\n",
        "for raw in raw_data:\n",
        "  for label in label_data:\n",
        "    if raw[0] == label[0]:\n",
        "      data['raw'].append(raw[1])\n",
        "      data['label'].append(label[1])\n",
        "      break\n",
        "    elif raw[0] < label[0]:\n",
        "      break\n",
        "    else:\n",
        "      del label_data[0]\n",
        "\n",
        "print(data['raw'][0])\n",
        "print(data['label'][0])\n",
        "\n",
        "print(len(data['raw']))\n",
        "print(len(data['label']))"
      ],
      "metadata": {
        "colab": {
          "base_uri": "https://localhost:8080/"
        },
        "id": "B9GQoOXG0fBa",
        "outputId": "4e70f966-7e27-4419-de00-8e7f58599781"
      },
      "execution_count": null,
      "outputs": [
        {
          "output_type": "stream",
          "name": "stdout",
          "text": [
            "카드번호 부를까요?\n",
            "주문번호 알고계신가요?\n",
            "9161\n",
            "9161\n"
          ]
        }
      ]
    },
    {
      "cell_type": "code",
      "source": [
        "import pickle\n",
        "\n",
        "with open('data.pkl', 'wb') as f:\n",
        "    pickle.dump(data, f)"
      ],
      "metadata": {
        "id": "w8f2r8H26YqD"
      },
      "execution_count": null,
      "outputs": []
    },
    {
      "cell_type": "markdown",
      "source": [
        "## claude sonnet 사용 세팅"
      ],
      "metadata": {
        "id": "ktrNhBAVmu2m"
      }
    },
    {
      "cell_type": "code",
      "source": [
        "!pip install anthropic"
      ],
      "metadata": {
        "colab": {
          "base_uri": "https://localhost:8080/"
        },
        "id": "BNmuZo03nGxZ",
        "outputId": "839b7db2-4c2b-4993-cfac-1eeddbcfb0bf"
      },
      "execution_count": null,
      "outputs": [
        {
          "output_type": "stream",
          "name": "stdout",
          "text": [
            "Collecting anthropic\n",
            "  Downloading anthropic-0.26.1-py3-none-any.whl (877 kB)\n",
            "\u001b[2K     \u001b[90m━━━━━━━━━━━━━━━━━━━━━━━━━━━━━━━━━━━━━━━━\u001b[0m \u001b[32m877.6/877.6 kB\u001b[0m \u001b[31m7.4 MB/s\u001b[0m eta \u001b[36m0:00:00\u001b[0m\n",
            "\u001b[?25hRequirement already satisfied: anyio<5,>=3.5.0 in /usr/local/lib/python3.10/dist-packages (from anthropic) (3.7.1)\n",
            "Requirement already satisfied: distro<2,>=1.7.0 in /usr/lib/python3/dist-packages (from anthropic) (1.7.0)\n",
            "Collecting httpx<1,>=0.23.0 (from anthropic)\n",
            "  Downloading httpx-0.27.0-py3-none-any.whl (75 kB)\n",
            "\u001b[2K     \u001b[90m━━━━━━━━━━━━━━━━━━━━━━━━━━━━━━━━━━━━━━━━\u001b[0m \u001b[32m75.6/75.6 kB\u001b[0m \u001b[31m10.7 MB/s\u001b[0m eta \u001b[36m0:00:00\u001b[0m\n",
            "\u001b[?25hCollecting jiter<1,>=0.1.0 (from anthropic)\n",
            "  Downloading jiter-0.1.0-cp310-cp310-manylinux_2_17_x86_64.manylinux2014_x86_64.whl (285 kB)\n",
            "\u001b[2K     \u001b[90m━━━━━━━━━━━━━━━━━━━━━━━━━━━━━━━━━━━━━━━━\u001b[0m \u001b[32m285.6/285.6 kB\u001b[0m \u001b[31m10.2 MB/s\u001b[0m eta \u001b[36m0:00:00\u001b[0m\n",
            "\u001b[?25hRequirement already satisfied: pydantic<3,>=1.9.0 in /usr/local/lib/python3.10/dist-packages (from anthropic) (2.7.1)\n",
            "Requirement already satisfied: sniffio in /usr/local/lib/python3.10/dist-packages (from anthropic) (1.3.1)\n",
            "Requirement already satisfied: tokenizers>=0.13.0 in /usr/local/lib/python3.10/dist-packages (from anthropic) (0.19.1)\n",
            "Requirement already satisfied: typing-extensions<5,>=4.7 in /usr/local/lib/python3.10/dist-packages (from anthropic) (4.11.0)\n",
            "Requirement already satisfied: idna>=2.8 in /usr/local/lib/python3.10/dist-packages (from anyio<5,>=3.5.0->anthropic) (3.7)\n",
            "Requirement already satisfied: exceptiongroup in /usr/local/lib/python3.10/dist-packages (from anyio<5,>=3.5.0->anthropic) (1.2.1)\n",
            "Requirement already satisfied: certifi in /usr/local/lib/python3.10/dist-packages (from httpx<1,>=0.23.0->anthropic) (2024.2.2)\n",
            "Collecting httpcore==1.* (from httpx<1,>=0.23.0->anthropic)\n",
            "  Downloading httpcore-1.0.5-py3-none-any.whl (77 kB)\n",
            "\u001b[2K     \u001b[90m━━━━━━━━━━━━━━━━━━━━━━━━━━━━━━━━━━━━━━━━\u001b[0m \u001b[32m77.9/77.9 kB\u001b[0m \u001b[31m12.6 MB/s\u001b[0m eta \u001b[36m0:00:00\u001b[0m\n",
            "\u001b[?25hCollecting h11<0.15,>=0.13 (from httpcore==1.*->httpx<1,>=0.23.0->anthropic)\n",
            "  Downloading h11-0.14.0-py3-none-any.whl (58 kB)\n",
            "\u001b[2K     \u001b[90m━━━━━━━━━━━━━━━━━━━━━━━━━━━━━━━━━━━━━━━━\u001b[0m \u001b[32m58.3/58.3 kB\u001b[0m \u001b[31m10.4 MB/s\u001b[0m eta \u001b[36m0:00:00\u001b[0m\n",
            "\u001b[?25hRequirement already satisfied: annotated-types>=0.4.0 in /usr/local/lib/python3.10/dist-packages (from pydantic<3,>=1.9.0->anthropic) (0.6.0)\n",
            "Requirement already satisfied: pydantic-core==2.18.2 in /usr/local/lib/python3.10/dist-packages (from pydantic<3,>=1.9.0->anthropic) (2.18.2)\n",
            "Requirement already satisfied: huggingface-hub<1.0,>=0.16.4 in /usr/local/lib/python3.10/dist-packages (from tokenizers>=0.13.0->anthropic) (0.23.0)\n",
            "Requirement already satisfied: filelock in /usr/local/lib/python3.10/dist-packages (from huggingface-hub<1.0,>=0.16.4->tokenizers>=0.13.0->anthropic) (3.14.0)\n",
            "Requirement already satisfied: fsspec>=2023.5.0 in /usr/local/lib/python3.10/dist-packages (from huggingface-hub<1.0,>=0.16.4->tokenizers>=0.13.0->anthropic) (2023.6.0)\n",
            "Requirement already satisfied: packaging>=20.9 in /usr/local/lib/python3.10/dist-packages (from huggingface-hub<1.0,>=0.16.4->tokenizers>=0.13.0->anthropic) (24.0)\n",
            "Requirement already satisfied: pyyaml>=5.1 in /usr/local/lib/python3.10/dist-packages (from huggingface-hub<1.0,>=0.16.4->tokenizers>=0.13.0->anthropic) (6.0.1)\n",
            "Requirement already satisfied: requests in /usr/local/lib/python3.10/dist-packages (from huggingface-hub<1.0,>=0.16.4->tokenizers>=0.13.0->anthropic) (2.31.0)\n",
            "Requirement already satisfied: tqdm>=4.42.1 in /usr/local/lib/python3.10/dist-packages (from huggingface-hub<1.0,>=0.16.4->tokenizers>=0.13.0->anthropic) (4.66.4)\n",
            "Requirement already satisfied: charset-normalizer<4,>=2 in /usr/local/lib/python3.10/dist-packages (from requests->huggingface-hub<1.0,>=0.16.4->tokenizers>=0.13.0->anthropic) (3.3.2)\n",
            "Requirement already satisfied: urllib3<3,>=1.21.1 in /usr/local/lib/python3.10/dist-packages (from requests->huggingface-hub<1.0,>=0.16.4->tokenizers>=0.13.0->anthropic) (2.0.7)\n",
            "Installing collected packages: jiter, h11, httpcore, httpx, anthropic\n",
            "Successfully installed anthropic-0.26.1 h11-0.14.0 httpcore-1.0.5 httpx-0.27.0 jiter-0.1.0\n"
          ]
        }
      ]
    },
    {
      "cell_type": "code",
      "source": [
        "import anthropic\n",
        "client = anthropic.Anthropic(api_key = \"api_key를 입력해주세요\")\n",
        "\n",
        "def claude(query):\n",
        "  message = client.messages.create(\n",
        "            model=\"claude-3-sonnet-20240229\",\n",
        "            max_tokens=1024,\n",
        "            system = \"너는 식당의 점원이야. 이제부터 손님의 질문에 친절하게 응대해줘. 대답은 최대한 간결하고 짧게해줘\",\n",
        "            messages= [\n",
        "                {\n",
        "                    \"role\": \"user\",\n",
        "                    \"content\": query\n",
        "                }\n",
        "            ]\n",
        "        )\n",
        "\n",
        "  return message.content[0].text"
      ],
      "metadata": {
        "id": "-1X1BxXBpKZs"
      },
      "execution_count": null,
      "outputs": []
    },
    {
      "cell_type": "code",
      "source": [
        "print(rows[0][2])\n",
        "print(rows[1][2])\n",
        "print(claude(rows[0][2]))"
      ],
      "metadata": {
        "colab": {
          "base_uri": "https://localhost:8080/"
        },
        "id": "YpevYsPLn4Xf",
        "outputId": "40a29da3-2bce-4689-bbb5-55259de1d494"
      },
      "execution_count": null,
      "outputs": [
        {
          "output_type": "stream",
          "name": "stdout",
          "text": [
            "방금 전에 주문한 사워크림고로케 2개 취소되었습니까?\n",
            "네, 방금 전에 주문하신 사워크림고로케 2개는 취소된 상태입니다.\n",
            "네, 주문하신 사워크림고로케 2개가 취소되었습니다.\n"
          ]
        }
      ]
    },
    {
      "cell_type": "markdown",
      "source": [
        "## claude 결과 저장"
      ],
      "metadata": {
        "id": "1dVcgxCo6BYF"
      }
    },
    {
      "cell_type": "code",
      "source": [
        "from tqdm import tqdm\n",
        "\n",
        "model_result = []\n",
        "for raw in tqdm(data['raw'][:3000]):\n",
        "  model_result.append(claude(raw))"
      ],
      "metadata": {
        "colab": {
          "base_uri": "https://localhost:8080/"
        },
        "id": "Pk8Rxcz35-4k",
        "outputId": "7d4511af-73e8-482a-a270-65c658af50c8"
      },
      "execution_count": null,
      "outputs": [
        {
          "output_type": "stream",
          "name": "stderr",
          "text": [
            "100%|██████████| 3000/3000 [1:30:17<00:00,  1.81s/it]\n"
          ]
        }
      ]
    },
    {
      "cell_type": "code",
      "source": [
        "import pickle\n",
        "\n",
        "with open('/content/drive/MyDrive/dataK/model_result.pkl', 'wb') as f:\n",
        "    pickle.dump(model_result, f)"
      ],
      "metadata": {
        "id": "oNjEKl9r7A4H"
      },
      "execution_count": null,
      "outputs": []
    },
    {
      "cell_type": "markdown",
      "source": [
        "# 데이터 load\n",
        "사용한 소상공인 고객응대 데이터셋와 claude를 거쳐서 나온 결과를 저장한 데이터를 load\n",
        "\n",
        "대상파일명 : data.pkl , model_result.pkl"
      ],
      "metadata": {
        "id": "N7MaMEt87EjC"
      }
    },
    {
      "cell_type": "code",
      "source": [
        "import pickle\n",
        "\n",
        "data = pickle.load(open('/content/data.pkl','rb'))\n",
        "model_result = pickle.load(open('/content/model_result.pkl','rb'))"
      ],
      "metadata": {
        "id": "KEHdYs3f7EG0"
      },
      "execution_count": null,
      "outputs": []
    },
    {
      "cell_type": "markdown",
      "source": [
        "# word2vec 한국어\n",
        "위의 데이터들(claude의 답변과 사용한 데이터의 질문과 답변)을 이용해서 mecab으로 토크나이징 후 word2vec모델에 학습하여 이용예정\n",
        "\n",
        "저장할 모델명 : kor_w2v"
      ],
      "metadata": {
        "id": "2mxSKzIq8XRW"
      }
    },
    {
      "cell_type": "code",
      "source": [
        "!pip install konlpy\n",
        "!pip install python-mecab-ko"
      ],
      "metadata": {
        "colab": {
          "base_uri": "https://localhost:8080/"
        },
        "id": "pX9hXHl_FrhS",
        "outputId": "cda90796-3977-4376-d095-547c271ac7f0"
      },
      "execution_count": null,
      "outputs": [
        {
          "output_type": "stream",
          "name": "stdout",
          "text": [
            "Requirement already satisfied: konlpy in /usr/local/lib/python3.10/dist-packages (0.6.0)\n",
            "Requirement already satisfied: JPype1>=0.7.0 in /usr/local/lib/python3.10/dist-packages (from konlpy) (1.5.0)\n",
            "Requirement already satisfied: lxml>=4.1.0 in /usr/local/lib/python3.10/dist-packages (from konlpy) (4.9.4)\n",
            "Requirement already satisfied: numpy>=1.6 in /usr/local/lib/python3.10/dist-packages (from konlpy) (1.25.2)\n",
            "Requirement already satisfied: packaging in /usr/local/lib/python3.10/dist-packages (from JPype1>=0.7.0->konlpy) (24.0)\n",
            "\u001b[33mWARNING: Running pip as the 'root' user can result in broken permissions and conflicting behaviour with the system package manager. It is recommended to use a virtual environment instead: https://pip.pypa.io/warnings/venv\u001b[0m\u001b[33m\n",
            "\u001b[0mRequirement already satisfied: python-mecab-ko in /usr/local/lib/python3.10/dist-packages (1.3.5)\n",
            "Requirement already satisfied: python-mecab-ko-dic in /usr/local/lib/python3.10/dist-packages (from python-mecab-ko) (2.1.1.post2)\n",
            "\u001b[33mWARNING: Running pip as the 'root' user can result in broken permissions and conflicting behaviour with the system package manager. It is recommended to use a virtual environment instead: https://pip.pypa.io/warnings/venv\u001b[0m\u001b[33m\n",
            "\u001b[0m"
          ]
        }
      ]
    },
    {
      "cell_type": "code",
      "source": [
        "from mecab import MeCab as mecab\n",
        "\n",
        "# Mecab 로드 (또는 다른 형태소 분석기 사용 가능)\n",
        "mecab = mecab()\n",
        "word2vecTrain =  [mecab.morphs(sentence) for sentence in data['raw']]+[mecab.morphs(sentence) for sentence in data['label']]+[mecab.morphs(sentence) for sentence in model_result]\n",
        "\n",
        "stop_words = set([\n",
        "    \"이\", \"는\", \"을\", \"있\", \"것\", \"있다\", \"수\", \"등\", \"의\", \"이다\", \"들\", \"그\", \"에서\", \"하다\"\n",
        "])\n",
        "\n",
        "word2vecTrain =[[word for word in words if word not in stop_words] for words in word2vecTrain  ]"
      ],
      "metadata": {
        "id": "zrMULAP59Hau"
      },
      "execution_count": null,
      "outputs": []
    },
    {
      "cell_type": "code",
      "source": [
        "len(word2vecTrain)"
      ],
      "metadata": {
        "colab": {
          "base_uri": "https://localhost:8080/"
        },
        "id": "m2h47jTrHizo",
        "outputId": "9c34e89f-3199-42c6-926d-6edcdafb0413"
      },
      "execution_count": null,
      "outputs": [
        {
          "output_type": "execute_result",
          "data": {
            "text/plain": [
              "21322"
            ]
          },
          "metadata": {},
          "execution_count": 95
        }
      ]
    },
    {
      "cell_type": "code",
      "source": [
        "!pip install gensim"
      ],
      "metadata": {
        "id": "7w2QliQp40Pv",
        "colab": {
          "base_uri": "https://localhost:8080/"
        },
        "outputId": "f4dd9887-f0e3-4a14-bfb3-5f251c0162ac"
      },
      "execution_count": null,
      "outputs": [
        {
          "output_type": "stream",
          "name": "stdout",
          "text": [
            "Requirement already satisfied: gensim in /usr/local/lib/python3.10/dist-packages (4.3.2)\n",
            "Requirement already satisfied: numpy>=1.18.5 in /usr/local/lib/python3.10/dist-packages (from gensim) (1.25.2)\n",
            "Requirement already satisfied: scipy>=1.7.0 in /usr/local/lib/python3.10/dist-packages (from gensim) (1.11.4)\n",
            "Requirement already satisfied: smart-open>=1.8.1 in /usr/local/lib/python3.10/dist-packages (from gensim) (6.4.0)\n",
            "\u001b[33mWARNING: Running pip as the 'root' user can result in broken permissions and conflicting behaviour with the system package manager. It is recommended to use a virtual environment instead: https://pip.pypa.io/warnings/venv\u001b[0m\u001b[33m\n",
            "\u001b[0m"
          ]
        }
      ]
    },
    {
      "cell_type": "code",
      "source": [
        "word2vecTrain[:3]"
      ],
      "metadata": {
        "colab": {
          "base_uri": "https://localhost:8080/"
        },
        "id": "q57b8YGlGtlI",
        "outputId": "7898af65-173b-4749-927a-25c1edb883a7"
      },
      "execution_count": null,
      "outputs": [
        {
          "output_type": "execute_result",
          "data": {
            "text/plain": [
              "[['카드', '번호', '부를까요', '?'],\n",
              " ['참이슬', '도', '한', '병', '부탁', '드립니다', '.'],\n",
              " ['기본', '세팅', '과자', '안', '주', '셔도', '돼요', '.']]"
            ]
          },
          "metadata": {},
          "execution_count": 97
        }
      ]
    },
    {
      "cell_type": "code",
      "source": [
        "from gensim.models import Word2Vec\n",
        "\n",
        "model = Word2Vec(sentences=word2vecTrain, vector_size=100, window=5, min_count=1, workers=4)\n",
        "\n",
        "from gensim.models import KeyedVectors\n",
        "\n",
        "model.wv.save_word2vec_format('kor_w2v') # 모델 저장"
      ],
      "metadata": {
        "id": "arZwDbSmCe99"
      },
      "execution_count": null,
      "outputs": []
    },
    {
      "cell_type": "markdown",
      "source": [
        "# 비교\n",
        "mecab을 통해 토크나이징한 문장 실제 대답데이터와 claude가 생성한 대답데이터를 위에서 학습한 모델로 벡터화하여 cosine 유사도를 구한다."
      ],
      "metadata": {
        "id": "3e2rKFBPq5_0"
      }
    },
    {
      "cell_type": "code",
      "source": [
        "import numpy as np\n",
        "from gensim.models import KeyedVectors\n",
        "from sklearn.metrics.pairwise import cosine_similarity\n",
        "from gensim.test.utils import datapath\n",
        "from mecab import MeCab as mecab\n",
        "\n",
        "model = KeyedVectors.load_word2vec_format(\"kor_w2v\") # 모델 로드\n",
        "\n",
        "# Mecab 로드 (또는 다른 형태소 분석기 사용 가능)\n",
        "mecab = mecab()\n",
        "\n",
        "# 문장 토큰화 및 임베딩 벡터 변환 함수\n",
        "def sentence_to_vec(sentence, model):\n",
        "    words = mecab.morphs(sentence)  # 형태소 분석기로 토큰화\n",
        "    word_vecs = []\n",
        "\n",
        "    for word in words:\n",
        "        if word in model:\n",
        "            word_vecs.append(model[word])\n",
        "\n",
        "    if len(word_vecs) == 0:  # 만약 문장의 모든 단어가 모델에 없는 경우\n",
        "        return np.zeros(model.vector_size)\n",
        "\n",
        "    # 문장의 임베딩 벡터는 단어 벡터의 평균으로 계산\n",
        "    sentence_vec = np.mean(word_vecs, axis=0)\n",
        "    return sentence_vec\n",
        "\n",
        "# cosine 유사도 계산 함수\n",
        "def cosine_similarity_vec(vec1, vec2):\n",
        "    vec1 = vec1.reshape(1, -1)\n",
        "    vec2 = vec2.reshape(1, -1)\n",
        "    return cosine_similarity(vec1, vec2)[0][0]\n",
        "\n",
        "\n",
        "# test\n",
        "# 두 문장 예제\n",
        "sentence1 = \"오늘 날씨가 좋다.\"\n",
        "sentence2 = \"날씨가 매우 맑다.\"\n",
        "\n",
        "# 문장을 임베딩 벡터로 변환\n",
        "vec1 = sentence_to_vec(sentence1, model)\n",
        "vec2 = sentence_to_vec(sentence2, model)\n",
        "\n",
        "# cosine 유사도 계산\n",
        "similarity = cosine_similarity_vec(vec1, vec2)\n",
        "print(f\"Cosine 유사도: {similarity}\")"
      ],
      "metadata": {
        "id": "zB5qKn0p0Yfr",
        "colab": {
          "base_uri": "https://localhost:8080/"
        },
        "outputId": "c7016e66-0230-45f8-e425-64c87f9827da"
      },
      "execution_count": 112,
      "outputs": [
        {
          "output_type": "stream",
          "name": "stdout",
          "text": [
            "Cosine 유사도: 0.9586980938911438\n"
          ]
        }
      ]
    },
    {
      "cell_type": "code",
      "source": [
        "resultGraph = [0] * 101\n",
        "print(type(resultGraph))"
      ],
      "metadata": {
        "id": "nQpO4CIODaDX",
        "colab": {
          "base_uri": "https://localhost:8080/"
        },
        "outputId": "e54c6b70-a8ff-465e-cee6-669f75763772"
      },
      "execution_count": 113,
      "outputs": [
        {
          "output_type": "stream",
          "name": "stdout",
          "text": [
            "<class 'list'>\n"
          ]
        }
      ]
    },
    {
      "cell_type": "code",
      "source": [
        "sum = 0\n",
        "for num in range(len(model_result)):\n",
        "  vec1 = sentence_to_vec(data['label'][num], model)\n",
        "  vec2 = sentence_to_vec(model_result[num], model)\n",
        "\n",
        "  similarity = cosine_similarity_vec(vec1, vec2)\n",
        "  # print(f\"Cosine 유사도: {similarity}\")\n",
        "\n",
        "  sum += similarity\n",
        "\n",
        "  resultGraph[int(similarity//0.01)] += 1\n"
      ],
      "metadata": {
        "id": "RbzpmKv-5Wzy"
      },
      "execution_count": 114,
      "outputs": []
    },
    {
      "cell_type": "code",
      "source": [
        "print('평균 유사도:',sum/len(model_result))"
      ],
      "metadata": {
        "colab": {
          "base_uri": "https://localhost:8080/"
        },
        "id": "CImpI9g4JwxO",
        "outputId": "e1c9c744-5337-454b-e635-c137db8e1321"
      },
      "execution_count": null,
      "outputs": [
        {
          "output_type": "stream",
          "name": "stdout",
          "text": [
            "평균 유사도: 0.8312343618174394\n"
          ]
        }
      ]
    },
    {
      "cell_type": "code",
      "source": [
        "import pickle\n",
        "\n",
        "with open('result.pkl', 'wb') as f:\n",
        "    pickle.dump(resultGraph, f)"
      ],
      "metadata": {
        "id": "2cCo03uqEBjq"
      },
      "execution_count": null,
      "outputs": []
    },
    {
      "cell_type": "markdown",
      "source": [
        "# 시각화\n",
        "실제 라벨과 claude를 통해 생성한 답변의 유사도를 시각화 하였다.\n",
        "\n",
        "코사인 유사도의 범위에 따라 정리한 데이터량 : result.pkl"
      ],
      "metadata": {
        "id": "0ws-Re5hKWtI"
      }
    },
    {
      "cell_type": "code",
      "source": [
        "import pickle\n",
        "\n",
        "resultGraph = pickle.load(open('result.pkl','rb'))"
      ],
      "metadata": {
        "id": "oMV_7GAffvh5"
      },
      "execution_count": null,
      "outputs": []
    },
    {
      "cell_type": "code",
      "source": [
        "import matplotlib.pyplot as plt\n",
        "import numpy as np\n",
        "\n",
        "plt.figure(figsize=(10, 5))\n",
        "\n",
        "# 그래프 그리기\n",
        "plt.bar(np.arange(0,1.01,0.01), resultGraph, width=0.01, edgecolor='black')\n",
        "\n",
        "\n",
        "\n",
        "# 그래프 제목 및 축 레이블 추가\n",
        "plt.title('Distribution of Similarity Scores')\n",
        "plt.xlabel('cosine similarity')\n",
        "plt.ylabel('Count')\n",
        "\n",
        "# 그래프 표시\n",
        "plt.show()"
      ],
      "metadata": {
        "colab": {
          "base_uri": "https://localhost:8080/",
          "height": 487
        },
        "id": "NhfWYdQkKYaX",
        "outputId": "b6545cdd-5e38-462d-edb1-0945aa8c9726"
      },
      "execution_count": null,
      "outputs": [
        {
          "output_type": "display_data",
          "data": {
            "text/plain": [
              "<Figure size 1000x500 with 1 Axes>"
            ],
            "image/png": "[encoded data removed]"
          },
          "metadata": {}
        }
      ]
    },
    {
      "cell_type": "markdown",
      "source": [
        "위 결과를 통해 대부분의 대답들이 실제 답변과 매우 높은 유사성을 보여준다."
      ],
      "metadata": {
        "id": "1ZHjLUNi0iz_"
      }
    }
  ]
}